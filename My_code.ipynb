{
 "cells": [
  {
   "cell_type": "code",
   "execution_count": 3,
   "metadata": {},
   "outputs": [],
   "source": [
    "from deepmusic.moduleloader import ModuleLoader\n",
    "from deepmusic.keyboardcell import KeyboardCell\n",
    "import deepmusic.songstruct as music\n",
    "import numpy as np\n",
    "import tensorflow as tf"
   ]
  },
  {
   "cell_type": "code",
   "execution_count": 4,
   "metadata": {},
   "outputs": [],
   "source": [
    "def build_network(self):\n",
    "    input_dim = ModuleLoader.batch_builders.get_module().get_input_dim()\n",
    "    \n",
    "    # note data\n",
    "    with tf.name_scope('placeholder_inputs'):\n",
    "        self.inputs = [\n",
    "            tf.placeholder(\n",
    "            tf.float32,\n",
    "                [self.batch_size, input_dim],\n",
    "                name ='input'\n",
    "            )\n",
    "        ]\n",
    "    \n",
    "    # target 88 key, binary classification problem\n",
    "    with tf.name_scope('placeholder_targets'):\n",
    "        self.targets = [\n",
    "            tf.placeholder(\n",
    "            tf.int32,  # 0/1\n",
    "            [self.batch_size],\n",
    "            name = 'target') \n",
    "        ]\n",
    "    \n",
    "    # hidden state\n",
    "    with tf.name_scope ('placeholder_use_prev'):\n",
    "        self.use_prev = [\n",
    "            tf.placeholder(\n",
    "            tf.bool,\n",
    "            [],\n",
    "            name = 'use_prev')\n",
    "        ]\n",
    "    \n",
    "    # define the network\n",
    "    self.loop_processing = ModuleLoader.loop_processings.build_module(self.args)\n",
    "    def loop_rnn(prev, i):\n",
    "        next_input = self.loop_processing(prev)\n",
    "        return tf.cond(self.prev[i], lambda: next_input, lambda: self.inputs[i])\n",
    "    \n",
    "    # build seq2seq model\n",
    "    self.outputs, self.final_state = tf.nn.seq2seq.rnn_decoder(\n",
    "        decoder_inputs = self.inputs,\n",
    "        initial_state = None,\n",
    "        cell = KeyboardCell,\n",
    "        loop_function = loop_rnn\n",
    "    ) # because defined in keyboard cell\n",
    "    \n",
    "    # training\n",
    "    # loss function\n",
    "    loss_fct = tf.nn.seq2seq.sequence_loss(\n",
    "        self.outputs, \n",
    "        self.targets, \n",
    "        softmax_loss_function = tf.nn.softmax.cross_entropy_with_logits,\n",
    "        average_across_timesteps = True,\n",
    "        average_across_batch = True\n",
    "    )\n",
    "    \n",
    "    # initialize the optimizer, minimize the loss\n",
    "    opt = tf.train.AdamOptimizer(\n",
    "        learning_rate = self.current_learning_rate,\n",
    "        beta1 = 0.9,\n",
    "        beta2 = 0.999,\n",
    "        epsilon = 1e-08\n",
    "    )\n",
    "    \n",
    "    self.opt_op = opt.minimize(loss_fct)"
   ]
  },
  {
   "cell_type": "code",
   "execution_count": 5,
   "metadata": {},
   "outputs": [
    {
     "ename": "TypeError",
     "evalue": "build_network() missing 1 required positional argument: 'self'",
     "output_type": "error",
     "traceback": [
      "\u001b[0;31m---------------------------------------------------------------------------\u001b[0m",
      "\u001b[0;31mTypeError\u001b[0m                                 Traceback (most recent call last)",
      "\u001b[0;32m<ipython-input-5-b479d45be6a8>\u001b[0m in \u001b[0;36m<module>\u001b[0;34m\u001b[0m\n\u001b[0;32m----> 1\u001b[0;31m \u001b[0mbuild_network\u001b[0m\u001b[0;34m(\u001b[0m\u001b[0;34m)\u001b[0m\u001b[0;34m\u001b[0m\u001b[0m\n\u001b[0m",
      "\u001b[0;31mTypeError\u001b[0m: build_network() missing 1 required positional argument: 'self'"
     ]
    }
   ],
   "source": [
    "build_network()"
   ]
  },
  {
   "cell_type": "code",
   "execution_count": null,
   "metadata": {},
   "outputs": [],
   "source": []
  }
 ],
 "metadata": {
  "kernelspec": {
   "display_name": "Python 3",
   "language": "python",
   "name": "python3"
  },
  "language_info": {
   "codemirror_mode": {
    "name": "ipython",
    "version": 3
   },
   "file_extension": ".py",
   "mimetype": "text/x-python",
   "name": "python",
   "nbconvert_exporter": "python",
   "pygments_lexer": "ipython3",
   "version": "3.6.6"
  }
 },
 "nbformat": 4,
 "nbformat_minor": 2
}
